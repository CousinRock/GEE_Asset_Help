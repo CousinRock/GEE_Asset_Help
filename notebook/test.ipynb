{
 "cells": [
  {
   "cell_type": "code",
   "execution_count": 1,
   "id": "6d241ed6",
   "metadata": {},
   "outputs": [],
   "source": [
    "import rasterio\n",
    "import numpy as np\n",
    "import ee\n",
    "import os"
   ]
  },
  {
   "cell_type": "code",
   "execution_count": 2,
   "id": "52e186b6",
   "metadata": {},
   "outputs": [],
   "source": [
    "ee.Authenticate()\n",
    "ee.Initialize(project = 'ee-renjiewu660')"
   ]
  },
  {
   "cell_type": "code",
   "execution_count": 3,
   "id": "211cdc31",
   "metadata": {},
   "outputs": [],
   "source": [
    "folder_path = './testTif'  # 替换为你自己的文件夹路径\n",
    "output_path = './testTif/test.tif'  # 合成后的输出路径"
   ]
  },
  {
   "cell_type": "code",
   "execution_count": 4,
   "id": "97476055",
   "metadata": {},
   "outputs": [
    {
     "name": "stdout",
     "output_type": "stream",
     "text": [
      "✅ 合成完成，输出文件: ./testTif/test.tif\n"
     ]
    }
   ],
   "source": [
    "# 获取文件列表\n",
    "tif_files = sorted([os.path.join(folder_path, f) for f in os.listdir(folder_path) if f.endswith('.tif')])\n",
    "if not tif_files:\n",
    "    raise ValueError(\"文件夹中没有找到任何 .tif 文件\")\n",
    "\n",
    "# 读取所有影像并检查尺寸\n",
    "arrays = []\n",
    "profile = None\n",
    "for i, path in enumerate(tif_files):\n",
    "    with rasterio.open(path) as src:\n",
    "        if i == 0:\n",
    "            profile = src.profile\n",
    "            height, width = src.height, src.width\n",
    "        elif src.height != height or src.width != width:\n",
    "            raise ValueError(f\"{path} 的尺寸不一致\")\n",
    "        arrays.append(src.read())  # 多波段读取\n",
    "\n",
    "# 拼接成一个大 array: (total_bands, height, width)\n",
    "merged = np.concatenate(arrays, axis=0)\n",
    "profile.update(count=merged.shape[0])\n",
    "\n",
    "with rasterio.open(output_path, 'w', **profile) as dst:\n",
    "    dst.write(merged)\n",
    "\n",
    "print(f\"✅ 合成完成，输出文件: {output_path}\")"
   ]
  },
  {
   "cell_type": "code",
   "execution_count": 8,
   "id": "2f96097b",
   "metadata": {},
   "outputs": [],
   "source": [
    "# 读取 tif 为 numpy 数组\n",
    "with rasterio.open('./output/merged.tif') as src:\n",
    "    array = src.read()  # (bands, height, width)\n",
    "    profile = src.profile  # 获取原始元数据\n",
    "\n",
    "# with rasterio.open('output.tif', 'w', **profile) as dst:\n",
    "#     dst.write(array)\n"
   ]
  },
  {
   "cell_type": "code",
   "execution_count": 9,
   "id": "b8855858",
   "metadata": {},
   "outputs": [
    {
     "data": {
      "text/plain": [
       "{'driver': 'GTiff', 'dtype': 'uint8', 'nodata': None, 'width': 256, 'height': 256, 'count': 24, 'crs': CRS.from_wkt('GEOGCS[\"WGS 84\",DATUM[\"WGS_1984\",SPHEROID[\"WGS 84\",6378137,298.257223563,AUTHORITY[\"EPSG\",\"7030\"]],AUTHORITY[\"EPSG\",\"6326\"]],PRIMEM[\"Greenwich\",0,AUTHORITY[\"EPSG\",\"8901\"]],UNIT[\"degree\",0.0174532925199433,AUTHORITY[\"EPSG\",\"9122\"]],AXIS[\"Latitude\",NORTH],AXIS[\"Longitude\",EAST],AUTHORITY[\"EPSG\",\"4326\"]]'), 'transform': Affine(8.983152841195215e-05, 0.0, 89.40015741251796,\n",
       "       0.0, -8.983152841195215e-05, 22.50953523182491), 'blockxsize': 256, 'blockysize': 1, 'tiled': False, 'interleave': 'pixel'}"
      ]
     },
     "execution_count": 9,
     "metadata": {},
     "output_type": "execute_result"
    }
   ],
   "source": [
    "profile"
   ]
  },
  {
   "cell_type": "code",
   "execution_count": 11,
   "id": "13fdc2ba",
   "metadata": {},
   "outputs": [
    {
     "data": {
      "text/plain": [
       "(24, 256, 256)"
      ]
     },
     "execution_count": 11,
     "metadata": {},
     "output_type": "execute_result"
    }
   ],
   "source": [
    "array.shape"
   ]
  },
  {
   "cell_type": "code",
   "execution_count": 12,
   "id": "b2868d9c",
   "metadata": {},
   "outputs": [
    {
     "name": "stdout",
     "output_type": "stream",
     "text": [
      "1\n",
      "2\n",
      "3\n",
      "4\n",
      "5\n",
      "6\n",
      "7\n",
      "8\n",
      "9\n",
      "10\n",
      "11\n",
      "12\n",
      "13\n",
      "14\n",
      "15\n",
      "16\n",
      "17\n",
      "18\n",
      "19\n",
      "20\n",
      "21\n",
      "22\n",
      "23\n",
      "24\n",
      "25\n",
      "26\n",
      "27\n",
      "28\n",
      "29\n",
      "30\n",
      "31\n",
      "32\n"
     ]
    }
   ],
   "source": [
    "with rasterio.open('../output/tifs/20250727_174318.tif') as src:\n",
    "    for i in range(1, src.count + 1):\n",
    "        print(i)\n"
   ]
  }
 ],
 "metadata": {
  "kernelspec": {
   "display_name": "VGEE",
   "language": "python",
   "name": "python3"
  },
  "language_info": {
   "codemirror_mode": {
    "name": "ipython",
    "version": 3
   },
   "file_extension": ".py",
   "mimetype": "text/x-python",
   "name": "python",
   "nbconvert_exporter": "python",
   "pygments_lexer": "ipython3",
   "version": "3.11.11"
  }
 },
 "nbformat": 4,
 "nbformat_minor": 5
}
